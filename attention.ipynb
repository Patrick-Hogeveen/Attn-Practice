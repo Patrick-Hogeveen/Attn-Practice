{
 "cells": [
  {
   "cell_type": "code",
   "execution_count": 3,
   "metadata": {},
   "outputs": [],
   "source": [
    "import numpy as np\n",
    "import torch\n",
    "import torch.nn as nn\n",
    "import torch.nn.functional as F"
   ]
  },
  {
   "cell_type": "code",
   "execution_count": 18,
   "metadata": {},
   "outputs": [],
   "source": [
    "class scaledDotProduct(nn.Module):\n",
    "    '''\n",
    "        Attention(Q, K, V ) = softmax( QK^T/√d_k)V \n",
    "    \n",
    "    '''\n",
    "    def __init__(self, dim, drop=0.0):\n",
    "        super(scaledDotProduct, self).__init__()\n",
    "        #dim is (d_k) when sqrt'd it is meant to counter small gradients in large sets of queries and keys\n",
    "        self.d_k = np.sqrt(dim)\n",
    "        #Simple drop out \n",
    "        self.drop = nn.Dropout(drop)\n",
    "\n",
    "    def forward(self, q, k, v, mask=None):\n",
    "        #first two dimensions are batch and number of heads?\n",
    "        n = torch.matmul(q, k.transpose(2,3)) / self.d_k\n",
    "\n",
    "        if mask:\n",
    "            n = n.masked_fill_(mask==0, -1e9)\n",
    "        #Drop out referenced later in paper but not in original diagram\n",
    "        att = self.drop(F.softmax(n, -1))\n",
    "\n",
    "        out = torch.matmul(n, v)\n",
    "\n",
    "        return out, att \n",
    "        \n",
    "        \n"
   ]
  },
  {
   "cell_type": "code",
   "execution_count": 20,
   "metadata": {},
   "outputs": [
    {
     "data": {
      "text/plain": [
       "(tensor([[[[0.5498, 0.5309, 0.4403, 0.5063],\n",
       "           [0.3494, 0.3224, 0.2702, 0.3095]]]]),\n",
       " tensor([[[[0.4935, 0.5065],\n",
       "           [0.5173, 0.4827]]]]))"
      ]
     },
     "execution_count": 20,
     "metadata": {},
     "output_type": "execute_result"
    }
   ],
   "source": [
    "#Scaled dot product attention testing\n",
    "#dim should be size of q and k\n",
    "scaled_dot = scaledDotProduct(3)\n",
    "q = torch.rand(1,1,2,3)\n",
    "k = torch.rand(1,1,2,3)\n",
    "v = torch.rand(1,1,2,4)\n",
    "\n",
    "\n",
    "scaled_dot(q,k,v)"
   ]
  },
  {
   "cell_type": "code",
   "execution_count": null,
   "metadata": {},
   "outputs": [],
   "source": [
    "class multiHeadedAttention(nn.Module):\n",
    "    def __init__(self, n_heads, dims, d_k, d_v, dropout=0.0):\n",
    "        super(multiHeadedAttention, self).__init__()\n",
    "\n",
    "        self.n_heads = n_heads\n",
    "        self.d_k = d_k\n",
    "        self.d_v = d_v\n",
    "        #Pre-attention projection matrices\n",
    "        self.w_q = nn.Linear(dims, n_heads * d_k, bias=False)\n",
    "        self.w_k = nn.Linear(dims, n_heads * d_k, bias=False)\n",
    "        self.w_v = nn.Linear(dims, n_heads * d_v, bias=False)\n",
    "\n",
    "        self.att = scaledDotProduct(d_k)\n",
    "        #Final linear layer after concat and attention\n",
    "        self.fc = nn.Linear(n_heads*d_v, dims)\n"
   ]
  }
 ],
 "metadata": {
  "kernelspec": {
   "display_name": "Python 3",
   "language": "python",
   "name": "python3"
  },
  "language_info": {
   "codemirror_mode": {
    "name": "ipython",
    "version": 3
   },
   "file_extension": ".py",
   "mimetype": "text/x-python",
   "name": "python",
   "nbconvert_exporter": "python",
   "pygments_lexer": "ipython3",
   "version": "3.10.12"
  }
 },
 "nbformat": 4,
 "nbformat_minor": 2
}
